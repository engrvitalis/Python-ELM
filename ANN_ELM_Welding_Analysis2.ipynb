{
  "nbformat": 4,
  "nbformat_minor": 0,
  "metadata": {
    "colab": {
      "name": "ANN/ELM_Welding Analysis2",
      "provenance": [],
      "collapsed_sections": [],
      "authorship_tag": "ABX9TyN1Q2ux2xwvUdxEUYYOOp/I",
      "include_colab_link": true
    },
    "kernelspec": {
      "name": "python3",
      "display_name": "Python 3"
    },
    "language_info": {
      "name": "python"
    }
  },
  "cells": [
    {
      "cell_type": "markdown",
      "metadata": {
        "id": "view-in-github",
        "colab_type": "text"
      },
      "source": [
        "<a href=\"https://colab.research.google.com/github/engrvitalis/Python-ELM/blob/master/ANN_ELM_Welding_Analysis2.ipynb\" target=\"_parent\"><img src=\"https://colab.research.google.com/assets/colab-badge.svg\" alt=\"Open In Colab\"/></a>"
      ]
    },
    {
      "cell_type": "markdown",
      "metadata": {
        "id": "VLkTPu3Uxvqu"
      },
      "source": [
        "Uploading the needed *files*"
      ]
    },
    {
      "cell_type": "code",
      "metadata": {
        "id": "8ZMz9SJ5xPOq"
      },
      "source": [
        "from google.colab import files\n",
        "\n",
        "uploaded = files.upload()"
      ],
      "execution_count": null,
      "outputs": []
    },
    {
      "cell_type": "markdown",
      "metadata": {
        "id": "drEFLDdZfAmD"
      },
      "source": [
        "Import relevant packages."
      ]
    },
    {
      "cell_type": "code",
      "metadata": {
        "id": "Gc3npuPEvizW"
      },
      "source": [
        "\"\"\"Import the required modules\"\"\"\n",
        "from sklearn.neural_network import MLPRegressor\n",
        "from sklearn.model_selection import train_test_split\n",
        "from sklearn.preprocessing import StandardScaler\n",
        "from sklearn.metrics import r2_score, mean_squared_error, mean_absolute_error\n",
        "from scipy.linalg import pinv2\n",
        "import matplotlib.pyplot as plt\n",
        "import pandas as pd\n",
        "import numpy as np"
      ],
      "execution_count": null,
      "outputs": []
    },
    {
      "cell_type": "markdown",
      "metadata": {
        "id": "FbVon2IRHqUR"
      },
      "source": [
        "Read and display table. The table is expected to start with the input variables before the target variables. "
      ]
    },
    {
      "cell_type": "code",
      "metadata": {
        "id": "rI_WusHbqMt3"
      },
      "source": [
        "def get_variables(file, num_target):\n",
        "  \"\"\"\n",
        "  input: dataframe.\n",
        "  output: tuple of dataframes containing target and input variables respectively.\n",
        "  \"\"\"\n",
        "  \n",
        "  # Read in file.\n",
        "  df = pd.read_csv(file)\n",
        "  # Get the target columns.\n",
        "  target_columns = df.iloc[:, -num_target:]\n",
        "  # Get the input columns.\n",
        "  input_columns = df.iloc[:, :num_target+1]\n",
        "\n",
        "  return (target_columns, input_columns)\n",
        "\n",
        "get_variables(\"Result.csv\", 4)"
      ],
      "execution_count": null,
      "outputs": []
    },
    {
      "cell_type": "markdown",
      "metadata": {
        "id": "ZAtlsi2eKenn"
      },
      "source": [
        "Exploratory data analysis"
      ]
    },
    {
      "cell_type": "code",
      "metadata": {
        "id": "xkbPkPWsKTr0"
      },
      "source": [
        "def explore(df):\n",
        "  pos = 1\n",
        "  for i in range(4):\n",
        "    print(f'\\t{df.columns[i].capitalize()} vs Response values')\n",
        "    plt.figure()\n",
        "    for j in range(8, 11):\n",
        "      plt.subplot(1, 3, pos)\n",
        "      plt.scatter(df.iloc[:, i], df.iloc[:, j])\n",
        "      plt.ylabel(df.columns[j])\n",
        "      plt.xlabel(df.columns[i])\n",
        "      pos += 1\n",
        "    plt.tight_layout()\n",
        "    plt.show()\n",
        "    print('\\n')\n",
        "    pos = 1\n",
        "\n",
        "explore(df)"
      ],
      "execution_count": null,
      "outputs": []
    },
    {
      "cell_type": "markdown",
      "metadata": {
        "id": "BhrnuO7_MB2t"
      },
      "source": [
        "Generate the necessary variables for modeling"
      ]
    },
    {
      "cell_type": "code",
      "metadata": {
        "id": "u4vNOq2TL7bI"
      },
      "source": [
        "X = df.iloc[:, :7].to_numpy()\n",
        "y = df.iloc[:, -4:].to_numpy()"
      ],
      "execution_count": null,
      "outputs": []
    },
    {
      "cell_type": "code",
      "metadata": {
        "id": "zOUdMhHwMXlx"
      },
      "source": [
        "X_train, X_test, y_train, y_test = train_test_split(X, y,random_state=1, test_size=0.2)"
      ],
      "execution_count": null,
      "outputs": []
    },
    {
      "cell_type": "markdown",
      "metadata": {
        "id": "wKBdHAVDEExB"
      },
      "source": [
        "Analyzing Weiding data with ANN"
      ]
    },
    {
      "cell_type": "code",
      "metadata": {
        "id": "_hkR2hz5Nda3"
      },
      "source": [
        "sc_X = StandardScaler()\n",
        "X_trainscaled=sc_X.fit_transform(X_train)\n",
        "X_testscaled=sc_X.transform(X_test)\n",
        "\n",
        "reg = MLPRegressor(hidden_layer_sizes=(30, 30),activation=\"relu\" ,random_state=1, max_iter=5000).fit(X_trainscaled, y_train)\n",
        "\n",
        "y_ann_pred=reg.predict(X_testscaled)\n",
        "ann_r2 = r2_score(y_ann_pred, y_test)\n",
        "ann_rmse = np.sqrt(mean_squared_error(y_test, y_ann_pred))\n",
        "ann_mae = mean_absolute_error(y_test, y_ann_pred)\n",
        "\n",
        "print(\"The ANN model performance for testing set\")\n",
        "print(\"--------------------------------------\")\n",
        "print(f'R^2:\\t{ann_r2}')\n",
        "print(f'rmse:\\t{ann_rmse}')\n",
        "print(f'mae:\\t{ann_mae}')\n",
        "print('\\n')"
      ],
      "execution_count": null,
      "outputs": []
    },
    {
      "cell_type": "markdown",
      "metadata": {
        "id": "PRRQGuhjG6Di"
      },
      "source": [
        "Analyzing Welding data with ELM"
      ]
    },
    {
      "cell_type": "code",
      "metadata": {
        "id": "fs-W7rD_NlOt"
      },
      "source": [
        "input_size = X_train.shape[1]\n",
        "hidden_size = 5000\n",
        "input_weights = np.random.normal(size=[input_size,hidden_size])\n",
        "biases = np.random.normal(size=[hidden_size])\n",
        "\n",
        "def relu(x):\n",
        "   return np.maximum(x, 0, x)\n",
        "\n",
        "def hidden_nodes(X):\n",
        "    G = np.dot(X, input_weights)\n",
        "    G = G + biases\n",
        "    H = relu(G)\n",
        "    return H\n",
        "\n",
        "output_weights = np.dot(pinv2(hidden_nodes(X_train)), y_train)\n",
        "\n",
        "def predict(X):\n",
        "    out = hidden_nodes(X)\n",
        "    out = np.dot(out, output_weights)\n",
        "    return out\n",
        "\n",
        "y_elm_pred = predict(X_test)\n",
        "elm_r2 = r2_score(y_test, y_elm_pred)\n",
        "elm_rmse = np.sqrt(mean_squared_error(y_test, y_elm_pred))\n",
        "elm_mae = mean_absolute_error(y_test, y_elm_pred)\n",
        "\n",
        "print(\"The Elm model performance for testing set\")\n",
        "print(\"--------------------------------------\")\n",
        "print(f'R^2:\\t{elm_r2}')\n",
        "print(f'rmse:\\t{elm_rmse}')\n",
        "print(f'mae:\\t{elm_mae}')"
      ],
      "execution_count": null,
      "outputs": []
    },
    {
      "cell_type": "markdown",
      "metadata": {
        "id": "TaJ3RN6YH_Mc"
      },
      "source": [
        "Visualization"
      ]
    },
    {
      "cell_type": "code",
      "metadata": {
        "id": "sATwv43GOM1L"
      },
      "source": [
        "fig, ax = plt.subplots()\n",
        "ax.scatter(y_ann_pred, y_test, edgecolors=(0, 0, 1))\n",
        "ax.plot([y_test.min(), y_test.max()], [y_test.min(), y_test.max()], 'r--', lw=3)\n",
        "ax.set_title('ANN Actual vs Predicted graph')\n",
        "ax.set_xlabel('Predicted')\n",
        "ax.set_ylabel('Actual')\n",
        "plt.show()"
      ],
      "execution_count": null,
      "outputs": []
    },
    {
      "cell_type": "code",
      "metadata": {
        "id": "9LVLwj_yI7ci"
      },
      "source": [
        "fig, ax = plt.subplots()\n",
        "ax.scatter(y_elm_pred, y_test, edgecolors=(0, 0, 1))\n",
        "ax.plot([y_test.min(), y_test.max()], [y_test.min(), y_test.max()], 'r--', lw=3)\n",
        "ax.set_title('ELM Actual vs Predicted graph')\n",
        "ax.set_xlabel('Predicted')\n",
        "ax.set_ylabel('Actual')\n",
        "plt.show()"
      ],
      "execution_count": null,
      "outputs": []
    },
    {
      "cell_type": "code",
      "metadata": {
        "id": "FNrs111HJnGQ"
      },
      "source": [
        "data = [['R^2', elm_r2, ann_r2], ['rmse', elm_rmse, ann_rmse], ['mae', elm_mae, ann_mae]]\n",
        "metric_table = pd.DataFrame(data, columns=['Score', 'ELM', 'ANN'])\n",
        "metric_table"
      ],
      "execution_count": null,
      "outputs": []
    },
    {
      "cell_type": "code",
      "metadata": {
        "id": "4E7uOf86Jt5M"
      },
      "source": [
        "# creating the dataset\n",
        "r2 = {'ANN':ann_r2, 'ELM':elm_r2}\n",
        "models = list(r2.keys())\n",
        "R2 = list(r2.values())\n",
        "\n",
        "plt.figure(figsize = (10, 5))\n",
        " \n",
        "# creating the bar plot\n",
        "plt.bar(models, R2)\n",
        " \n",
        "plt.xlabel(\"Model name\")\n",
        "plt.ylabel(\"R^2\")\n",
        "plt.title(\"Comparing Coefficient of Determination values for ANN and ELM\")\n",
        "\n",
        "plt.figure(figsize = (10, 5))\n",
        " \n",
        "# creating the bar plot\n",
        "plt.bar(models, [ann_rmse, elm_rmse], color ='maroon')\n",
        " \n",
        "plt.xlabel(\"Model name\")\n",
        "plt.ylabel(\"rmse\")\n",
        "plt.title(\"Comparing Root Mean Square Error values for ANN and ELM\")\n",
        "\n",
        "plt.figure(figsize = (10, 5))\n",
        " \n",
        "# creating the bar plot\n",
        "plt.bar(models, [ann_mae, elm_mae], color ='green')\n",
        " \n",
        "plt.xlabel(\"Model name\")\n",
        "plt.ylabel(\"mae\")\n",
        "plt.title(\"Comparing Mean Absolute Error values for ANN and ELM\")\n",
        "\n",
        "plt.show()\n"
      ],
      "execution_count": null,
      "outputs": []
    },
    {
      "cell_type": "code",
      "metadata": {
        "id": "kd5kpLCsJ7bK"
      },
      "source": [
        ""
      ],
      "execution_count": null,
      "outputs": []
    }
  ]
}